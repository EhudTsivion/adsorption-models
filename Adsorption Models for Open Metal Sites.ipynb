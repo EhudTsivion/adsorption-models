{
 "cells": [
  {
   "cell_type": "markdown",
   "metadata": {},
   "source": [
    "# Adsorption Models for Open Metal Sites"
   ]
  },
  {
   "cell_type": "code",
   "execution_count": null,
   "metadata": {
    "collapsed": true
   },
   "outputs": [],
   "source": [
    "import utility_functions_new as uf\n",
    "import adsorption_models as adsm\n",
    "import numpy as np"
   ]
  },
  {
   "cell_type": "markdown",
   "metadata": {},
   "source": [
    "These are the adsorption energies $\\Delta H_{ads}$, ordered from 1st H$_2$ to last H$_2$, in the case of Ca-catecholate: [Reference](https://doi.org/10.1002/cphc.201601215)"
   ]
  },
  {
   "cell_type": "code",
   "execution_count": 2,
   "metadata": {
    "collapsed": true
   },
   "outputs": [],
   "source": [
    "ca_cat = np.array([-16.0, -15.7, -15.3, -15.0], dtype=np.float)"
   ]
  },
  {
   "cell_type": "markdown",
   "metadata": {},
   "source": [
    "### evalutation of internal energy"
   ]
  },
  {
   "cell_type": "markdown",
   "metadata": {},
   "source": [
    "To evaluate the internal energy that is produced in the adsorption process, where translational and rotational degrees of freedom are converted to vibrations (with high internal energy) we assume the following:"
   ]
  },
  {
   "cell_type": "markdown",
   "metadata": {},
   "source": [
    "1. One translation is converted to vibration. The typical frequency of the new virtation is $\\nu = 300 cm^{-1}$.\n",
    "2. One rotation is converted to vibration. The typical frequency of the new virtation is $\\nu = 800 cm^{-1}$."
   ]
  },
  {
   "cell_type": "markdown",
   "metadata": {},
   "source": [
    "These numbers are approximate and were found to be typical for H$_2$ adsorption in previous work. The lower frequency corresponds rotation -> vibration transformation and the higher frequency corresponds to translation -> vibration transformation. \n",
    "\n",
    "The absolute minimal reqirement for a molecule to be adsorbed, is one tranlation -> vibration convertion. The translational degree of freedom which is lost is perpendicular to the surface and since it is lost, the molecule does not escape in the \"up\" direction into space and remains adsorbed. The vibration is perpendicular to the surface and has a frequency roughtly in the order of 700-800 cm$^{-1}$ in proportion to the \"strength\" of adsorption. \n",
    "\n",
    "### example\n",
    "We now calculate the internal energy of these new vibrations:"
   ]
  },
  {
   "cell_type": "code",
   "execution_count": 3,
   "metadata": {},
   "outputs": [
    {
     "name": "stdout",
     "output_type": "stream",
     "text": [
      "The internal energy is 7.88 kJ/mol at 298.15 K\n"
     ]
    }
   ],
   "source": [
    "vibrations = np.array([300, 800], dtype=np.float)\n",
    "temperature = np.float(298.15) \n",
    "\n",
    "E_vib = uf.vib_energy(vibrations, temperature)\n",
    "print('The internal energy is {:0.2f} kJ/mol at 298.15 K'.format(E_vib.sum()))"
   ]
  },
  {
   "cell_type": "markdown",
   "metadata": {},
   "source": [
    "$\\Delta E_{vib} = 7.88$ KJ mol$^{-1}$"
   ]
  },
  {
   "cell_type": "markdown",
   "metadata": {},
   "source": [
    "About zero point energy: note, that often people often ask about the \"zero point energy\" which is the vibrational energy at zero Kelvins. However, at non-zero temperature we should be interested in much more than the zero'th level. These higher level of vibrational excitation were taken into account."
   ]
  },
  {
   "cell_type": "markdown",
   "metadata": {},
   "source": [
    "About contribution to energy: The vibrations that form during the adsorption reaction increase the internal energy of the system - and increase the enthaply of adsorption (it becomes less negative) and therefore formation of vibrational energies is a force which impedes adsorption."
   ]
  },
  {
   "cell_type": "markdown",
   "metadata": {},
   "source": [
    "### Evaluation of enthalpy"
   ]
  },
  {
   "cell_type": "markdown",
   "metadata": {},
   "source": [
    "For each molecule which is adsorbed, the $p\\cdot V$ term in the definition of the enthalpy quals to $R\\cdot T$: \n",
    "\n",
    "$H = E + p \\cdot V = E + R \\cdot T$\n",
    "\n",
    "Assuming ideal gas behaviour, which is resonable for H$_2$ and if you do the very simple math: \n",
    "\n",
    "$H_{ads} = H_{complex}@H_2 - H_{complex}  - H_{H_2} = \\Delta E_{ads} - R\\cdot T$ + $\\Delta E_{vib}$\n",
    "\n",
    "You could come to the conclusion that we need to subtract $R\\cdot T$ for each adsorbed $H_2$."
   ]
  },
  {
   "cell_type": "code",
   "execution_count": 4,
   "metadata": {},
   "outputs": [
    {
     "name": "stdout",
     "output_type": "stream",
     "text": [
      "RT = 2.5 at 298.15 K\n"
     ]
    }
   ],
   "source": [
    "print('RT = {:0.1f} at 298.15 K'.format(uf.R * 298.15))"
   ]
  },
  {
   "cell_type": "markdown",
   "metadata": {},
   "source": [
    "### Evaluation of entropy\n",
    "In this work, we simply assume that the enthalpy is constant, in the order of $S=8.5/R$ kJ mol$^{-1}$ K$^{-1}$. This is justified as we do not attempt to predict actual capacities, rather, to qualitativly predict the the behaviour of the system. We have previoulsy predicted the adsoption entropy based on entopy~enthalpy empirical relation from previous work."
   ]
  },
  {
   "cell_type": "markdown",
   "metadata": {},
   "source": [
    "### Free energy of adsorption"
   ]
  },
  {
   "cell_type": "markdown",
   "metadata": {},
   "source": [
    "The definition of the Gibbs free energy is:\n",
    "\n",
    "$G = H - TS$"
   ]
  },
  {
   "cell_type": "markdown",
   "metadata": {},
   "source": [
    "And the free energy of adsorption is defined as:\n",
    "\n",
    "$\\Delta G_{ads} = G_{complex@H_2} - G_{complex} - G_{H_2} = $\n",
    "\n",
    "$\\Delta H_{ads} + T\\cdot S = \\Delta E_{ads} + \\Delta E_{vib} + T\\cdot S - R\\cdot T$ "
   ]
  },
  {
   "cell_type": "markdown",
   "metadata": {},
   "source": [
    "## Adsorption Models (or site-occupancy)"
   ]
  },
  {
   "cell_type": "markdown",
   "metadata": {},
   "source": [
    "### Parallel model\n",
    "In this study if all H$_2$ molecules are adsorbed with the same \\Delta E_{ads}, it is assume that adsorption is parallel, or in other words, that all H$_2$ molecules are adsrobed simulteniously:\n",
    "\n",
    "M-NTA + $\\textit{n}$H$_2 \\rightarrow$ M-NTA@$\\textit{n}$H$_2$\n",
    "### Sequential model\n",
    "However, if there is a decline in $\\Delta E_{ads}$ for subsequent molecules, the process is assumed to be sequential:\n",
    "\n",
    "M-NTA@$\\textit{n}$H$_2$ + H$_2 \\rightarrow$ M-NTA@$(\\textit{n+1})$H$_2$\n",
    "\n",
    "Please note, that the the results obtained by these wo models may be very similar.\n",
    "### More complex models\n",
    "For CH$_4$ adsorption in MOF-5 we have developed a more complicated model, where the first molecules is adsorbed dequentially and followed by three parallel molecules and more.[Reference](https://doi.org/10.1021/acs.jpcc.7b04246)."
   ]
  },
  {
   "cell_type": "markdown",
   "metadata": {
    "collapsed": true
   },
   "source": [
    "## The adsorption polynomial\n",
    "The adsorption polynomial ($Q$) is how our theory of adsorption is methematically represented. Please look at \"Molecular Driving Forces\" by Dill Ch. 28 \"Multi-site Cooperative Ligand Binding\" to understand it better. The Extended Langmuir Model (ELM) for multi-site of the occupancy of the total occupancy of the sites is derived from the adsorption polynomial using this expression:\n",
    "\n",
    "$$occ = p \\cdot \\frac{d Q}{d p}$$\n",
    "\n",
    "You can generate an EML for the occupancy in a sequential adsorption of `n` molecules using this command:"
   ]
  },
  {
   "cell_type": "code",
   "execution_count": 5,
   "metadata": {},
   "outputs": [
    {
     "data": {
      "text/plain": [
       "p*(3*K1*K2*K3*p**2 + 2*K1*K2*p + K1)/(K1*K2*K3*p**3 + K1*K2*p**2 + K1*p + 1)"
      ]
     },
     "execution_count": 5,
     "metadata": {},
     "output_type": "execute_result"
    }
   ],
   "source": [
    "adsm.gen_ext_langmuir(3)"
   ]
  },
  {
   "cell_type": "markdown",
   "metadata": {},
   "source": [
    "For a single molecule this is simply the standrad Langmuir equation:"
   ]
  },
  {
   "cell_type": "code",
   "execution_count": 6,
   "metadata": {},
   "outputs": [
    {
     "data": {
      "text/plain": [
       "K1*p/(K1*p + 1)"
      ]
     },
     "execution_count": 6,
     "metadata": {},
     "output_type": "execute_result"
    }
   ],
   "source": [
    "adsm.gen_ext_langmuir(1)"
   ]
  },
  {
   "cell_type": "markdown",
   "metadata": {},
   "source": [
    "A note about implementation: Derivation of the EML is carried using the `sympy` symbolic algebra for python package. This makes the whole process of derivation and assignement in the expression quite slow. However, since the system is also small - it does not make a big difference. "
   ]
  },
  {
   "cell_type": "markdown",
   "metadata": {},
   "source": [
    "## Getting the actual adsorption isotherm\n",
    "We'll look at Sc-NTA metal site. It adsorbes up to three molecules with the following energies:"
   ]
  },
  {
   "cell_type": "code",
   "execution_count": 7,
   "metadata": {
    "collapsed": true
   },
   "outputs": [],
   "source": [
    "adsorption_energies = [-20.5, -16.0, -14.6]"
   ]
  },
  {
   "cell_type": "markdown",
   "metadata": {},
   "source": [
    "Since the adsorption energies decrese, we assume a sequantial adsorption model. We can also adjust the temperature at each given pressure: At lower pressures, the temperature should be higher to release strongly adsorbed molecules. At High pressure the temperature should be as lower as possible to fill the site as much as possible.\n",
    "\n",
    "The minumal temperature that we'll consider is -50 Celcius, which is determined by our experimental collaborators, and we'll set the maxiumum temperature to 50 Celcius (arbitrarily)."
   ]
  },
  {
   "cell_type": "code",
   "execution_count": 8,
   "metadata": {
    "collapsed": true
   },
   "outputs": [],
   "source": [
    "temperature_range = [298.15 + 50, 298.15 - 50]"
   ]
  },
  {
   "cell_type": "markdown",
   "metadata": {},
   "source": [
    "The vibrations are 300 and 800 as discussed above:"
   ]
  },
  {
   "cell_type": "code",
   "execution_count": 9,
   "metadata": {
    "collapsed": true
   },
   "outputs": [],
   "source": [
    "vibrations = [300, 800]"
   ]
  },
  {
   "cell_type": "markdown",
   "metadata": {},
   "source": [
    "Now, lets generate the object"
   ]
  },
  {
   "cell_type": "code",
   "execution_count": 10,
   "metadata": {
    "collapsed": true
   },
   "outputs": [],
   "source": [
    "model1 = adsm.ExtendedLangmuir(name='NTA-Sc',\n",
    "                               e_ads=adsorption_energies,\n",
    "                               vibs=vibrations,\n",
    "                               temp_limits=temperature_range)"
   ]
  },
  {
   "cell_type": "markdown",
   "metadata": {},
   "source": [
    "Obtain the isotherm, assuming a sequential model:"
   ]
  },
  {
   "cell_type": "code",
   "execution_count": 11,
   "metadata": {
    "collapsed": true
   },
   "outputs": [],
   "source": [
    "isotherm_var = model1.sequential_isotherm()"
   ]
  },
  {
   "cell_type": "code",
   "execution_count": 12,
   "metadata": {
    "scrolled": true
   },
   "outputs": [
    {
     "data": {
      "image/png": "[encoded data removed]",
      "text/plain": [
       "<matplotlib.figure.Figure at 0x216002279e8>"
      ]
     },
     "metadata": {},
     "output_type": "display_data"
    }
   ],
   "source": [
    "uf.plot_occupancy(isotherm_var, title=\"NTA-Sc site occupancy\")"
   ]
  },
  {
   "cell_type": "markdown",
   "metadata": {},
   "source": [
    "If we would have chosen a constant temperature, the adsorption isotherm will have a more \"conventional\" look:"
   ]
  },
  {
   "cell_type": "code",
   "execution_count": 13,
   "metadata": {},
   "outputs": [
    {
     "data": {
      "image/png": "[encoded data removed]",
      "text/plain": [
       "<matplotlib.figure.Figure at 0x21600691588>"
      ]
     },
     "metadata": {},
     "output_type": "display_data"
    }
   ],
   "source": [
    "temperature_range = [298.15, 298.15]\n",
    "\n",
    "model2 = adsm.ExtendedLangmuir(name='NTA-Sc',\n",
    "                               e_ads=adsorption_energies,\n",
    "                               vibs=vibrations,\n",
    "                               temp_limits=temperature_range)\n",
    "\n",
    "isotherm_const = model2.sequential_isotherm()\n",
    "\n",
    "uf.plot_occupancy(isotherm_const, title='NTA-Sc isothem, constant T')"
   ]
  },
  {
   "cell_type": "markdown",
   "metadata": {},
   "source": [
    "And we can compare this result to parallel adsorption:"
   ]
  },
  {
   "cell_type": "code",
   "execution_count": 14,
   "metadata": {},
   "outputs": [
    {
     "data": {
      "image/png": "[encoded data removed]",
      "text/plain": [
       "<matplotlib.figure.Figure at 0x21600054240>"
      ]
     },
     "metadata": {},
     "output_type": "display_data"
    }
   ],
   "source": [
    "isotherm_const = model2.parallel_iso()\n",
    "\n",
    "uf.plot_occupancy(isotherm_const, \"NTA-Sc isotherm, parallel model\")"
   ]
  },
  {
   "cell_type": "markdown",
   "metadata": {},
   "source": [
    "We can see that there is only a ver small difference between parallel and sequantial models. However, its always important with the correct physical model - otherwise, your results are not \"physical\"."
   ]
  },
  {
   "cell_type": "markdown",
   "metadata": {},
   "source": [
    "## Usable occupancy\n"
   ]
  },
  {
   "cell_type": "markdown",
   "metadata": {
    "collapsed": true
   },
   "source": [
    "You can use the utility function (uf) to calculate the point occupancy of the OMS at a given pressure, let say 15 bar: "
   ]
  },
  {
   "cell_type": "code",
   "execution_count": 19,
   "metadata": {},
   "outputs": [
    {
     "data": {
      "text/plain": [
       "0.90324987364830944"
      ]
     },
     "execution_count": 19,
     "metadata": {},
     "output_type": "execute_result"
    }
   ],
   "source": [
    "uf.point_occupancy(isotherm_const, pressure=15)"
   ]
  },
  {
   "cell_type": "markdown",
   "metadata": {},
   "source": [
    "Or the usable occupancy at minimal pressure of 5 bar (default) and maximum pressure of 65 bar:"
   ]
  },
  {
   "cell_type": "code",
   "execution_count": 20,
   "metadata": {},
   "outputs": [
    {
     "data": {
      "text/plain": [
       "1.2953618677486736"
      ]
     },
     "execution_count": 20,
     "metadata": {},
     "output_type": "execute_result"
    }
   ],
   "source": [
    "uf.usable_occupancy(isotherm=isotherm_const, p_min=5, p_max=65)"
   ]
  }
 ],
 "metadata": {
  "kernelspec": {
   "display_name": "Python 3",
   "language": "python",
   "name": "python3"
  },
  "language_info": {
   "codemirror_mode": {
    "name": "ipython",
    "version": 3
   },
   "file_extension": ".py",
   "mimetype": "text/x-python",
   "name": "python",
   "nbconvert_exporter": "python",
   "pygments_lexer": "ipython3",
   "version": "3.5.2"
  }
 },
 "nbformat": 4,
 "nbformat_minor": 1
}
